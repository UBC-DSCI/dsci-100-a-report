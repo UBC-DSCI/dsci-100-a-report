{
 "cells": [
  {
   "cell_type": "code",
   "execution_count": 1,
   "metadata": {},
   "outputs": [
    {
     "ename": "ERROR",
     "evalue": "Error in library(testthat): there is no package called ‘testthat’\n",
     "output_type": "error",
     "traceback": [
      "Error in library(testthat): there is no package called ‘testthat’\nTraceback:\n",
      "1. library(testthat)"
     ]
    }
   ],
   "source": [
    "library(testthat)\n",
    "library(digest)\n",
    "library(tidyverse)"
   ]
  },
  {
   "cell_type": "markdown",
   "metadata": {},
   "source": [
    "**Question 1.6**\n",
    "\n",
    "Create a summarised version of the `avocado` data set and name it `avocado_aggregate`. To do this you will want to `group_by` the `week` column and then use `summarize` to calculate the average price (name that column `average_price`)."
   ]
  },
  {
   "cell_type": "code",
   "execution_count": null,
   "metadata": {},
   "outputs": [],
   "source": [
    "#... <- ... %>% \n",
    "#    group_by(...) %>% \n",
    "#    summarise(... = mean(average_price, na.rm = TRUE))\n",
    "\n",
    "# your code here\n",
    "fail() # No Answer - remove if you provide an answer\n",
    "head(avocado_aggregate)"
   ]
  },
  {
   "cell_type": "code",
   "execution_count": null,
   "metadata": {},
   "outputs": [],
   "source": [
    "test_that('avocado_aggregate should have a column named week', {\n",
    "    expect_true(\"week\" %in% colnames(avocado_aggregate))\n",
    "     })\n",
    "test_that('avocado_aggregate should have a column named average_price with the average weekly avocado price', {\n",
    "    expect_true(\"average_price\" %in% colnames(avocado_aggregate))\n",
    "    expect_equal(digest(as.numeric(sum(avocado_aggregate$average_price))), 'd27e825e408c446c586593f719b5545e')\n",
    "     })\n",
    "print(\"Success!\")"
   ]
  },
  {
   "cell_type": "markdown",
   "metadata": {},
   "source": [
    "**Question 1.9** \n",
    "\n",
    "Now, create another summarised  version of the `avocado` data frame and name it `avocado_total`. To do this you will want to `group_by` the `week` column and then use `summarize` to calculate the average total volume (name that column `total_volume`)."
   ]
  },
  {
   "cell_type": "code",
   "execution_count": null,
   "metadata": {},
   "outputs": [],
   "source": [
    "# your code here\n",
    "fail() # No Answer - remove if you provide an answer\n",
    "head(avocado_total)"
   ]
  },
  {
   "cell_type": "code",
   "execution_count": null,
   "metadata": {},
   "outputs": [],
   "source": [
    "test_that('avocado_total should have a column named week', {\n",
    "    expect_true(\"week\" %in% colnames(avocado_total))\n",
    "     })\n",
    "test_that('avocado_total should have a column named average_price with the average weekly avocado price', {\n",
    "    expect_true(\"average_price\" %in% colnames(avocado_total))\n",
    "    expect_equal(digest(as.numeric(sum(avocado_total$total_volume))), '6c1676dd13517d0eed2be5e246dc8ef1')\n",
    "     })\n",
    "print(\"Success!\")"
   ]
  }
 ],
 "metadata": {
  "kernelspec": {
   "display_name": "R",
   "language": "R",
   "name": "ir"
  },
  "language_info": {
   "codemirror_mode": "r",
   "file_extension": ".r",
   "mimetype": "text/x-r-source",
   "name": "R",
   "pygments_lexer": "r",
   "version": "3.6.0"
  }
 },
 "nbformat": 4,
 "nbformat_minor": 2
}
